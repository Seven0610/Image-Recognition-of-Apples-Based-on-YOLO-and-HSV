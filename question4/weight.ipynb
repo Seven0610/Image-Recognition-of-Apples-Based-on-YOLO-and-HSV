{
 "cells": [
  {
   "cell_type": "code",
   "execution_count": null,
   "metadata": {},
   "outputs": [],
   "source": [
    "import pandas as pd\n",
    "\n",
    "df = pd.read_excel(\"F:\\\\yolov8\\\\Supporting material\\\\table\\\\result3.xlsx\")\n",
    "print(\"Original DataFrame:\")\n",
    "print(df)\n",
    "\n",
    "# Calculate the Z-score\n",
    "z_scores = (df['Two-dimensional area'] - df['Two-dimensional area'].mean()) / df['Two-dimensional area'].std()\n",
    "\n",
    "# Define a threshold for outliers, such as Z-scores above 3\n",
    "threshold = 3\n",
    "\n",
    "# Culls the entire row in which the outlier for the Two-dimensional area column is located\n",
    "df = df[abs(z_scores) <= threshold]\n",
    "\n",
    "# Calculation quality\n",
    "# Calculate the values of a and b according to the above formula\n",
    "sigma_area = df['Two-dimensional area'].std()\n",
    "mu_area = df['Two-dimensional area'].mean()\n",
    "\n",
    "# Mass expected value and variance\n",
    "mu_mass = 125 # Mass expected value\n",
    "sigma_mass = sigma_area * (mu_mass / mu_area)\n",
    "\n",
    "# Calculation quality\n",
    "df.loc[:,  'weight'] = sigma_mass / sigma_area * df['Two-dimensional area'] + (mu_mass - (sigma_mass / sigma_area) * mu_area)\n",
    "\n",
    "\n",
    "print(\"\\nDataFrame after removing outliers:\")\n",
    "print(df)\n",
    "# Calculate IQR (Interquartile spacing)\n",
    "Q1 = df['weight'].quantile(0.25)\n",
    "Q3 = df['weight'].quantile(0.75)\n",
    "IQR = Q3 - Q1\n",
    "# Outlier detection\n",
    "outliers = df[df['weight'] < Q1-1.5 * IQR]\n",
    "df.drop(outliers.index,inplace=True)\n",
    "\n",
    "print(df)\n",
    "df.to_excel(\"F:\\\\yolov8\\\\ support material \\\\table\\\\ Result3_weigh.xlsx \",index=False)"
   ]
  },
  {
   "cell_type": "code",
   "execution_count": 5,
   "metadata": {},
   "outputs": [
    {
     "name": "stdout",
     "output_type": "stream",
     "text": [
      "<class 'pandas.core.frame.DataFrame'>\n",
      "RangeIndex: 2749 entries, 0 to 2748\n",
      "Data columns (total 2 columns):\n",
      " #   Column                Non-Null Count  Dtype  \n",
      "---  ------                --------------  -----  \n",
      " 0   Two-dimensional area  2749 non-null   float64\n",
      " 1   weight                2749 non-null   float64\n",
      "dtypes: float64(2)\n",
      "memory usage: 43.1 KB\n",
      "None\n",
      "       Two-dimensional area        weight\n",
      "count           2749.000000  2.749000e+03\n",
      "mean            6157.767081  1.250000e+02\n",
      "std             5868.939274  1.191369e+02\n",
      "min                0.000000  1.421085e-14\n",
      "25%             1312.206608  2.663722e+01\n",
      "50%             4337.753136  8.805451e+01\n",
      "75%             9683.961636  1.965802e+02\n",
      "max            25300.844836  5.135962e+02\n"
     ]
    }
   ],
   "source": [
    "import pandas as pd\n",
    "df1 = pd.read_excel(\"F:\\\\yolov8\\\\Supporting material\\\\table\\\\result3_weight.xlsx\")\n",
    "print(df1[['Two-dimensional area', 'weight']].info())\n",
    "print(df1[['Two-dimensional area', 'weight']].describe())"
   ]
  }
 ],
 "metadata": {
  "kernelspec": {
   "display_name": "Python 3",
   "language": "python",
   "name": "python3"
  },
  "language_info": {
   "codemirror_mode": {
    "name": "ipython",
    "version": 3
   },
   "file_extension": ".py",
   "mimetype": "text/x-python",
   "name": "python",
   "nbconvert_exporter": "python",
   "pygments_lexer": "ipython3",
   "version": "3.11.5"
  }
 },
 "nbformat": 4,
 "nbformat_minor": 2
}
