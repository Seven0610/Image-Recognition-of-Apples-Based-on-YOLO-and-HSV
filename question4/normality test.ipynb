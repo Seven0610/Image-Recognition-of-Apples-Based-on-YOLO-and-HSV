{
 "cells": [
  {
   "cell_type": "code",
   "execution_count": null,
   "metadata": {},
   "outputs": [],
   "source": [
    "import pandas\n",
    "from spsspro.algorithm import descriptive_analysis\n",
    "data = pandas.DataFrame({\n",
    "    \"A\": [1, 2, 3, 4, 5],\n",
    "    \"B\": [10, 20, 30, 40, 50],\n",
    "})\n",
    "print(descriptive_analysis.normality_test(data))\n",
    "    "
   ]
  },
  {
   "cell_type": "code",
   "execution_count": null,
   "metadata": {},
   "outputs": [],
   "source": [
    "import pandas\n",
    "from spsspro.algorithm import descriptive_analysis\n",
    "data = pandas.DataFrame({\n",
    "    \"A\": [1, 2, 3, 4, 5],\n",
    "    \"B\": [10, 20, 30, 40, 50],\n",
    "})\n",
    "print(descriptive_analysis.normality_test(data))"
   ]
  }
 ],
 "metadata": {
  "language_info": {
   "name": "python"
  }
 },
 "nbformat": 4,
 "nbformat_minor": 2
}
